{
 "cells": [
  {
   "cell_type": "code",
   "execution_count": 1,
   "id": "5b1c822b-7063-4a27-92a1-f78de62180bf",
   "metadata": {},
   "outputs": [],
   "source": [
    "import pandas as pd\n",
    "import numpy as np"
   ]
  },
  {
   "cell_type": "code",
   "execution_count": 2,
   "id": "f989419c-ce34-4018-b2b9-65b78a858390",
   "metadata": {},
   "outputs": [],
   "source": [
    "import tensorflow as tf"
   ]
  },
  {
   "cell_type": "code",
   "execution_count": 3,
   "id": "21962bea-4591-4e4c-9c71-6c88096b4141",
   "metadata": {},
   "outputs": [
    {
     "name": "stdout",
     "output_type": "stream",
     "text": [
      "TensorFlow version: 2.10.0\n",
      "Num GPUs Available:  1\n",
      "PhysicalDevice(name='/physical_device:GPU:0', device_type='GPU')\n"
     ]
    }
   ],
   "source": [
    "# Check TensorFlow version\n",
    "print(\"TensorFlow version:\", tf.__version__)\n",
    "\n",
    "# List physical GPUs\n",
    "gpus = tf.config.list_physical_devices('GPU')\n",
    "print(\"Num GPUs Available: \", len(gpus))\n",
    "for gpu in gpus:\n",
    "    print(gpu)"
   ]
  },
  {
   "cell_type": "code",
   "execution_count": 4,
   "id": "bb65a596-f49f-4eb9-a8b8-8713cf1b79b3",
   "metadata": {},
   "outputs": [],
   "source": [
    "from tensorflow.keras.utils import load_img\n",
    "from tensorflow.keras.preprocessing.image import ImageDataGenerator\n",
    "from tensorflow.keras.utils import image_dataset_from_directory\n",
    "\n",
    "from tensorflow.keras import Sequential\n",
    "\n",
    "from tensorflow.keras.layers import Dense, Conv2D, MaxPooling2D, Activation, Flatten, Dropout, BatchNormalization, GlobalAveragePooling2D\n",
    "from tensorflow.keras.regularizers import l2\n",
    "\n",
    "from tensorflow.keras.applications import EfficientNetB0\n",
    "\n",
    "from tensorflow.keras.applications.efficientnet import preprocess_input\n",
    "\n",
    "from tensorflow.keras.callbacks import EarlyStopping, CSVLogger"
   ]
  },
  {
   "cell_type": "code",
   "execution_count": 5,
   "id": "37e30307-21a4-4ecb-a489-ec30a684bda8",
   "metadata": {},
   "outputs": [],
   "source": [
    "from matplotlib import pyplot as plt"
   ]
  },
  {
   "cell_type": "code",
   "execution_count": null,
   "id": "8b24eac9-0129-4edb-b106-0d11ad469075",
   "metadata": {},
   "outputs": [],
   "source": []
  },
  {
   "cell_type": "code",
   "execution_count": 6,
   "id": "5bdbfd36-bd08-4c48-86f9-d59371f7f4b7",
   "metadata": {},
   "outputs": [],
   "source": [
    "base = EfficientNetB0(\n",
    "    weights='imagenet',\n",
    "    include_top=False,\n",
    "input_shape=(256, 256, 3)\n",
    ")"
   ]
  },
  {
   "cell_type": "code",
   "execution_count": 7,
   "id": "8b6ec5e9-1dd6-49d4-8d3c-c7599344323e",
   "metadata": {},
   "outputs": [],
   "source": [
    "base.trainable = False"
   ]
  },
  {
   "cell_type": "code",
   "execution_count": null,
   "id": "cdc5afc7-214f-4274-a3c3-bef721e88dd1",
   "metadata": {},
   "outputs": [],
   "source": []
  },
  {
   "cell_type": "code",
   "execution_count": null,
   "id": "3c688981-a364-4544-b9f1-9375efbf2cc3",
   "metadata": {},
   "outputs": [],
   "source": []
  },
  {
   "cell_type": "code",
   "execution_count": 8,
   "id": "53139025-f363-4085-b22d-17e79fefc85b",
   "metadata": {},
   "outputs": [],
   "source": [
    "batch_size=8\n",
    "target_image_size=(256, 256)"
   ]
  },
  {
   "cell_type": "code",
   "execution_count": 9,
   "id": "3100b2c1-94fc-473b-bf26-1432f4e67fd1",
   "metadata": {},
   "outputs": [],
   "source": [
    "datagen = ImageDataGenerator(\n",
    "    rotation_range=10,\n",
    "    width_shift_range=0.1,\n",
    "    height_shift_range=0.1,\n",
    "    zoom_range=0.1,              \n",
    "    horizontal_flip=True,        \n",
    "    fill_mode='nearest'\n",
    ")"
   ]
  },
  {
   "cell_type": "code",
   "execution_count": 10,
   "id": "32e48b13-4f3a-4810-a355-b1a3f4c517a6",
   "metadata": {},
   "outputs": [
    {
     "name": "stdout",
     "output_type": "stream",
     "text": [
      "Found 2239 images belonging to 9 classes.\n"
     ]
    }
   ],
   "source": [
    "orig_images = ImageDataGenerator(\n",
    ").flow_from_directory(\n",
    "    directory=r'C:\\Users\\write\\Desktop\\skin_disease\\dataset\\Train',\n",
    "    target_size=target_image_size,\n",
    "    batch_size=batch_size,\n",
    "    class_mode='sparse'\n",
    ")"
   ]
  },
  {
   "cell_type": "code",
   "execution_count": 11,
   "id": "2b22db76-c95d-43b5-aaa4-a332d98dd870",
   "metadata": {},
   "outputs": [
    {
     "name": "stdout",
     "output_type": "stream",
     "text": [
      "Found 2239 images belonging to 9 classes.\n"
     ]
    }
   ],
   "source": [
    "aug_images = datagen.flow_from_directory(\n",
    "    directory = r'C:\\Users\\write\\Desktop\\skin_disease\\dataset\\Train',\n",
    "    target_size=target_image_size,\n",
    "    batch_size=batch_size,\n",
    "    class_mode='sparse',\n",
    "    shuffle=True\n",
    ")"
   ]
  },
  {
   "cell_type": "code",
   "execution_count": 12,
   "id": "845ef89f-c434-47fa-8b89-b0106b616b12",
   "metadata": {},
   "outputs": [],
   "source": [
    "val_datagen = ImageDataGenerator(\n",
    "    preprocessing_function=preprocess_input\n",
    ")"
   ]
  },
  {
   "cell_type": "code",
   "execution_count": 13,
   "id": "f585ef7a-e810-4b4c-bc4a-2ac95a2b9610",
   "metadata": {},
   "outputs": [
    {
     "name": "stdout",
     "output_type": "stream",
     "text": [
      "Found 118 images belonging to 9 classes.\n"
     ]
    }
   ],
   "source": [
    "validation_data = val_datagen.flow_from_directory(\n",
    "    directory=r'C:\\Users\\write\\Desktop\\skin_disease\\dataset\\Test',\n",
    "    target_size=target_image_size,\n",
    "    batch_size=batch_size,\n",
    "    class_mode='sparse',\n",
    "    shuffle=False\n",
    ")\n",
    "\n",
    "\n",
    "\n",
    "\n",
    "\n",
    "# validation_data = image_dataset_from_directory(\n",
    "#     directory=r'C:\\Users\\write\\Desktop\\skin_disease\\dataset\\Test',\n",
    "#     labels='inferred',\n",
    "#     label_mode='int',\n",
    "#     batch_size=batch_size,\n",
    "#     image_size=target_image_size\n",
    "# )"
   ]
  },
  {
   "cell_type": "code",
   "execution_count": null,
   "id": "ce7cc09a-78f1-4c2d-a935-778b87827968",
   "metadata": {},
   "outputs": [],
   "source": []
  },
  {
   "cell_type": "code",
   "execution_count": 14,
   "id": "0203508b-e908-4c27-b40c-17876ab27ef5",
   "metadata": {},
   "outputs": [],
   "source": [
    "def combined_generator(g1, g2):\n",
    "    while True:\n",
    "        x1, y1 = g1.next()\n",
    "        x2, y2 = g2.next()\n",
    "\n",
    "        yield (np.concatenate([x1, x2]), np.concatenate([y1, y2]))"
   ]
  },
  {
   "cell_type": "code",
   "execution_count": 15,
   "id": "8a153454-9d58-42da-8141-b13a24cc476a",
   "metadata": {},
   "outputs": [],
   "source": [
    "train_gen = combined_generator(aug_images, orig_images)"
   ]
  },
  {
   "cell_type": "code",
   "execution_count": 16,
   "id": "f5632113-6c94-4020-a56a-8c601b853c62",
   "metadata": {},
   "outputs": [
    {
     "data": {
      "text/plain": [
       "<generator object combined_generator at 0x00000147C19FAC00>"
      ]
     },
     "execution_count": 16,
     "metadata": {},
     "output_type": "execute_result"
    }
   ],
   "source": [
    "train_gen"
   ]
  },
  {
   "cell_type": "code",
   "execution_count": null,
   "id": "24c361c0-bbf1-4f42-afbe-a466afea4c36",
   "metadata": {},
   "outputs": [],
   "source": []
  },
  {
   "cell_type": "markdown",
   "id": "2cd3e1cb-9822-45ae-938f-232fc245e71e",
   "metadata": {},
   "source": [
    "#### For Saving Images"
   ]
  },
  {
   "cell_type": "code",
   "execution_count": 17,
   "id": "4021196e-e3f0-4444-9a33-c2ef6c15f8da",
   "metadata": {},
   "outputs": [],
   "source": [
    "# aug_images = datagen.flow_from_directory(\n",
    "#     directory=r'C:\\Users\\write\\Desktop\\skin_disease\\dataset\\Train',\n",
    "#     target_size=target_image_size,\n",
    "#     save_to_dir=r'C:\\Users\\write\\Desktop\\skin_disease\\delete',\n",
    "#     save_format='jpeg'\n",
    "# )"
   ]
  },
  {
   "cell_type": "code",
   "execution_count": null,
   "id": "e53dac59-c6c9-4691-b673-b49baf4345d0",
   "metadata": {},
   "outputs": [],
   "source": []
  },
  {
   "cell_type": "markdown",
   "id": "99d226ec-7c00-4f12-bb36-2968249e9141",
   "metadata": {},
   "source": [
    "# Model Training"
   ]
  },
  {
   "cell_type": "code",
   "execution_count": 18,
   "id": "5c9f7ab1-dc46-49ef-95f2-2671eec8ed87",
   "metadata": {},
   "outputs": [],
   "source": [
    "model = Sequential()"
   ]
  },
  {
   "cell_type": "code",
   "execution_count": 19,
   "id": "cbd67fce-9dd5-4333-8b7a-6a9f9a36f76f",
   "metadata": {},
   "outputs": [],
   "source": [
    "# model.add(Conv2D(16, kernel_size=(3, 3), input_shape=(256, 256, 3)))\n",
    "# model.add(BatchNormalization())\n",
    "# model.add(Activation('relu'))\n",
    "# model.add(MaxPooling2D(pool_size=(2, 2)))\n",
    "# model.add(Dropout(0.3))\n",
    "\n",
    "# model.add(Conv2D(32, kernel_size=(3, 3)))\n",
    "# model.add(BatchNormalization())\n",
    "# model.add(Activation('relu'))\n",
    "# model.add(MaxPooling2D(pool_size=(2, 2)))\n",
    "# model.add(Dropout(0.3))\n",
    "\n",
    "# model.add(Conv2D(64, kernel_size=(3, 3)))\n",
    "# model.add(BatchNormalization())\n",
    "# model.add(Activation('relu'))\n",
    "# model.add(MaxPooling2D(pool_size=(2,2)))"
   ]
  },
  {
   "cell_type": "code",
   "execution_count": 20,
   "id": "b6fc825a-1c70-4fe7-9b54-3b6f3eb2ecaf",
   "metadata": {},
   "outputs": [],
   "source": [
    "model.add(base)"
   ]
  },
  {
   "cell_type": "code",
   "execution_count": 21,
   "id": "b2ec0d23-0f72-4430-a200-2d0765e15c3a",
   "metadata": {},
   "outputs": [],
   "source": [
    "model.add(GlobalAveragePooling2D())"
   ]
  },
  {
   "cell_type": "code",
   "execution_count": 22,
   "id": "fdaa8aba-49e9-41ac-a011-d2623ff3a5cc",
   "metadata": {},
   "outputs": [],
   "source": [
    "model.add(Dense(128, activation='relu'))\n",
    "model.add(BatchNormalization())\n",
    "model.add(Dropout(0.5))\n",
    "\n",
    "model.add(Dense(32, activation='relu'))\n",
    "model.add(BatchNormalization())\n",
    "model.add(Dropout(0.5))\n",
    "\n",
    "model.add(Dense(9, activation='softmax'))"
   ]
  },
  {
   "cell_type": "code",
   "execution_count": 23,
   "id": "0bb8e302-8ba9-4ed1-a172-f5986138a90b",
   "metadata": {},
   "outputs": [],
   "source": [
    "model.compile(optimizer='adam', loss='sparse_categorical_crossentropy', metrics=['sparse_categorical_accuracy'])"
   ]
  },
  {
   "cell_type": "code",
   "execution_count": 24,
   "id": "613ad6a4-389f-4484-8d31-024a926099c3",
   "metadata": {},
   "outputs": [
    {
     "name": "stdout",
     "output_type": "stream",
     "text": [
      "Model: \"sequential\"\n",
      "_________________________________________________________________\n",
      " Layer (type)                Output Shape              Param #   \n",
      "=================================================================\n",
      " efficientnetb0 (Functional)  (None, 8, 8, 1280)       4049571   \n",
      "                                                                 \n",
      " global_average_pooling2d (G  (None, 1280)             0         \n",
      " lobalAveragePooling2D)                                          \n",
      "                                                                 \n",
      " dense (Dense)               (None, 128)               163968    \n",
      "                                                                 \n",
      " batch_normalization (BatchN  (None, 128)              512       \n",
      " ormalization)                                                   \n",
      "                                                                 \n",
      " dropout (Dropout)           (None, 128)               0         \n",
      "                                                                 \n",
      " dense_1 (Dense)             (None, 32)                4128      \n",
      "                                                                 \n",
      " batch_normalization_1 (Batc  (None, 32)               128       \n",
      " hNormalization)                                                 \n",
      "                                                                 \n",
      " dropout_1 (Dropout)         (None, 32)                0         \n",
      "                                                                 \n",
      " dense_2 (Dense)             (None, 9)                 297       \n",
      "                                                                 \n",
      "=================================================================\n",
      "Total params: 4,218,604\n",
      "Trainable params: 168,713\n",
      "Non-trainable params: 4,049,891\n",
      "_________________________________________________________________\n"
     ]
    }
   ],
   "source": [
    "model.summary()"
   ]
  },
  {
   "cell_type": "code",
   "execution_count": 25,
   "id": "651fd2e7-12a0-4c0e-8995-2362c036d7c0",
   "metadata": {},
   "outputs": [],
   "source": [
    "early_stop = EarlyStopping(\n",
    "    monitor='val_loss',\n",
    "    patience=5,\n",
    "    restore_best_weights=True\n",
    ")"
   ]
  },
  {
   "cell_type": "code",
   "execution_count": 26,
   "id": "2c294ca7-24c4-45d1-b7a3-17fec9f809a6",
   "metadata": {},
   "outputs": [],
   "source": [
    "csv_logger = CSVLogger('training_log.csv')"
   ]
  },
  {
   "cell_type": "code",
   "execution_count": 27,
   "id": "59d8802b-5b66-4a90-a239-c4a9eb06f3f2",
   "metadata": {},
   "outputs": [
    {
     "name": "stdout",
     "output_type": "stream",
     "text": [
      "Epoch 1/50\n",
      "100/100 [==============================] - 94s 744ms/step - loss: 2.6061 - sparse_categorical_accuracy: 0.1813 - val_loss: 1.8474 - val_sparse_categorical_accuracy: 0.2966\n",
      "Epoch 2/50\n",
      "100/100 [==============================] - 72s 725ms/step - loss: 2.1319 - sparse_categorical_accuracy: 0.2750 - val_loss: 1.9367 - val_sparse_categorical_accuracy: 0.2966\n",
      "Epoch 3/50\n",
      "100/100 [==============================] - 68s 690ms/step - loss: 1.9919 - sparse_categorical_accuracy: 0.3098 - val_loss: 1.7328 - val_sparse_categorical_accuracy: 0.3475\n",
      "Epoch 4/50\n",
      "100/100 [==============================] - 72s 724ms/step - loss: 1.7872 - sparse_categorical_accuracy: 0.3700 - val_loss: 1.6941 - val_sparse_categorical_accuracy: 0.3729\n",
      "Epoch 5/50\n",
      "100/100 [==============================] - 84s 837ms/step - loss: 1.6357 - sparse_categorical_accuracy: 0.4238 - val_loss: 1.6763 - val_sparse_categorical_accuracy: 0.3644\n",
      "Epoch 6/50\n",
      "100/100 [==============================] - 75s 754ms/step - loss: 1.6026 - sparse_categorical_accuracy: 0.4324 - val_loss: 1.6888 - val_sparse_categorical_accuracy: 0.3475\n",
      "Epoch 7/50\n",
      "100/100 [==============================] - 59s 598ms/step - loss: 1.5659 - sparse_categorical_accuracy: 0.4406 - val_loss: 1.5770 - val_sparse_categorical_accuracy: 0.4322\n",
      "Epoch 8/50\n",
      "100/100 [==============================] - 58s 583ms/step - loss: 1.5225 - sparse_categorical_accuracy: 0.4762 - val_loss: 1.6402 - val_sparse_categorical_accuracy: 0.3644\n",
      "Epoch 9/50\n",
      "100/100 [==============================] - 59s 595ms/step - loss: 1.4434 - sparse_categorical_accuracy: 0.4975 - val_loss: 1.6281 - val_sparse_categorical_accuracy: 0.3559\n",
      "Epoch 10/50\n",
      "100/100 [==============================] - 58s 581ms/step - loss: 1.4625 - sparse_categorical_accuracy: 0.4750 - val_loss: 1.6037 - val_sparse_categorical_accuracy: 0.4153\n",
      "Epoch 11/50\n",
      "100/100 [==============================] - 59s 591ms/step - loss: 1.4320 - sparse_categorical_accuracy: 0.4831 - val_loss: 1.6640 - val_sparse_categorical_accuracy: 0.3559\n",
      "Epoch 12/50\n",
      "100/100 [==============================] - 58s 586ms/step - loss: 1.4117 - sparse_categorical_accuracy: 0.4862 - val_loss: 1.5415 - val_sparse_categorical_accuracy: 0.4492\n",
      "Epoch 13/50\n",
      "100/100 [==============================] - 59s 597ms/step - loss: 1.4202 - sparse_categorical_accuracy: 0.4988 - val_loss: 1.6040 - val_sparse_categorical_accuracy: 0.4322\n",
      "Epoch 14/50\n",
      "100/100 [==============================] - 59s 594ms/step - loss: 1.3755 - sparse_categorical_accuracy: 0.5207 - val_loss: 1.5764 - val_sparse_categorical_accuracy: 0.4237\n",
      "Epoch 15/50\n",
      "100/100 [==============================] - 61s 613ms/step - loss: 1.3336 - sparse_categorical_accuracy: 0.5331 - val_loss: 1.6040 - val_sparse_categorical_accuracy: 0.4153\n",
      "Epoch 16/50\n",
      "100/100 [==============================] - 60s 607ms/step - loss: 1.3007 - sparse_categorical_accuracy: 0.5412 - val_loss: 1.6213 - val_sparse_categorical_accuracy: 0.4153\n",
      "Epoch 17/50\n",
      "100/100 [==============================] - 58s 586ms/step - loss: 1.3263 - sparse_categorical_accuracy: 0.5188 - val_loss: 1.5075 - val_sparse_categorical_accuracy: 0.4322\n",
      "Epoch 18/50\n",
      "100/100 [==============================] - 58s 589ms/step - loss: 1.2580 - sparse_categorical_accuracy: 0.5544 - val_loss: 1.4052 - val_sparse_categorical_accuracy: 0.5169\n",
      "Epoch 19/50\n",
      "100/100 [==============================] - 58s 590ms/step - loss: 1.2761 - sparse_categorical_accuracy: 0.5575 - val_loss: 1.5240 - val_sparse_categorical_accuracy: 0.4746\n",
      "Epoch 20/50\n",
      "100/100 [==============================] - 58s 588ms/step - loss: 1.2272 - sparse_categorical_accuracy: 0.5676 - val_loss: 1.5714 - val_sparse_categorical_accuracy: 0.4746\n",
      "Epoch 21/50\n",
      "100/100 [==============================] - 58s 589ms/step - loss: 1.2484 - sparse_categorical_accuracy: 0.5675 - val_loss: 1.5515 - val_sparse_categorical_accuracy: 0.4492\n",
      "Epoch 22/50\n",
      "100/100 [==============================] - 59s 598ms/step - loss: 1.2681 - sparse_categorical_accuracy: 0.5581 - val_loss: 1.5514 - val_sparse_categorical_accuracy: 0.5000\n",
      "Epoch 23/50\n",
      "100/100 [==============================] - 58s 585ms/step - loss: 1.2385 - sparse_categorical_accuracy: 0.5588 - val_loss: 1.4304 - val_sparse_categorical_accuracy: 0.5169\n"
     ]
    }
   ],
   "source": [
    "history = model.fit(train_gen, epochs=50, verbose='auto', steps_per_epoch=100, validation_data=validation_data, callbacks=[early_stop, csv_logger])"
   ]
  },
  {
   "cell_type": "code",
   "execution_count": null,
   "id": "1d6fb220-2ced-434e-8b3d-c60d8fdd388f",
   "metadata": {},
   "outputs": [],
   "source": []
  },
  {
   "cell_type": "code",
   "execution_count": 28,
   "id": "f6222544-ddc7-4252-a13a-754671d78ed8",
   "metadata": {},
   "outputs": [
    {
     "data": {
      "image/png": "[encoded data removed]",
      "text/plain": [
       "<Figure size 640x480 with 1 Axes>"
      ]
     },
     "metadata": {},
     "output_type": "display_data"
    }
   ],
   "source": [
    "plt.plot(history.history['loss'], label='Training')\n",
    "plt.plot(history.history['val_loss'], label='Validation')\n",
    "plt.legend()\n",
    "plt.show()"
   ]
  },
  {
   "cell_type": "code",
   "execution_count": 29,
   "id": "2b19dfa4-4661-4cb6-9e13-5c0ffb43e790",
   "metadata": {},
   "outputs": [
    {
     "data": {
      "image/png": "[encoded data removed]",
      "text/plain": [
       "<Figure size 640x480 with 1 Axes>"
      ]
     },
     "metadata": {},
     "output_type": "display_data"
    }
   ],
   "source": [
    "plt.plot(history.history['sparse_categorical_accuracy'], label='Training')\n",
    "plt.plot(history.history['val_sparse_categorical_accuracy'], label='Validation')\n",
    "plt.legend()\n",
    "plt.show()"
   ]
  },
  {
   "cell_type": "code",
   "execution_count": null,
   "id": "bc511906-c8e2-4293-a10e-d96febc4032e",
   "metadata": {},
   "outputs": [],
   "source": []
  },
  {
   "cell_type": "markdown",
   "id": "45049799-fe59-4011-8cd7-003686943e3b",
   "metadata": {},
   "source": [
    "# Saving The Model"
   ]
  },
  {
   "cell_type": "code",
   "execution_count": 30,
   "id": "6580b73b-7ee5-4833-bf58-efb3ec0d91da",
   "metadata": {},
   "outputs": [],
   "source": [
    "# Save weights to an H5 file\n",
    "model.save_weights(\"model_weights.h5\")\n"
   ]
  },
  {
   "cell_type": "markdown",
   "id": "074ef487-a95f-43b9-a5d7-7eddc1c78bd5",
   "metadata": {},
   "source": [
    "# loading the model"
   ]
  },
  {
   "cell_type": "code",
   "execution_count": 31,
   "id": "27376337-9e16-475c-900a-ad9b1ec4522c",
   "metadata": {},
   "outputs": [],
   "source": [
    "model = Sequential()\n",
    "model.add(base)\n",
    "model.add(GlobalAveragePooling2D())\n",
    "\n",
    "model.add(Dense(128, activation='relu'))\n",
    "model.add(BatchNormalization())\n",
    "model.add(Dropout(0.5))\n",
    "\n",
    "model.add(Dense(32, activation='relu'))\n",
    "model.add(BatchNormalization())\n",
    "model.add(Dropout(0.5))\n",
    "\n",
    "model.add(Dense(9, activation='softmax'))"
   ]
  },
  {
   "cell_type": "code",
   "execution_count": 33,
   "id": "d7224f12-1706-4743-946b-8c087832bc66",
   "metadata": {
    "scrolled": true
   },
   "outputs": [
    {
     "name": "stdout",
     "output_type": "stream",
     "text": [
      "Model: \"sequential_1\"\n",
      "_________________________________________________________________\n",
      " Layer (type)                Output Shape              Param #   \n",
      "=================================================================\n",
      " efficientnetb0 (Functional)  (None, 8, 8, 1280)       4049571   \n",
      "                                                                 \n",
      " global_average_pooling2d_1   (None, 1280)             0         \n",
      " (GlobalAveragePooling2D)                                        \n",
      "                                                                 \n",
      " dense_3 (Dense)             (None, 128)               163968    \n",
      "                                                                 \n",
      " batch_normalization_2 (Batc  (None, 128)              512       \n",
      " hNormalization)                                                 \n",
      "                                                                 \n",
      " dropout_2 (Dropout)         (None, 128)               0         \n",
      "                                                                 \n",
      " dense_4 (Dense)             (None, 32)                4128      \n",
      "                                                                 \n",
      " batch_normalization_3 (Batc  (None, 32)               128       \n",
      " hNormalization)                                                 \n",
      "                                                                 \n",
      " dropout_3 (Dropout)         (None, 32)                0         \n",
      "                                                                 \n",
      " dense_5 (Dense)             (None, 9)                 297       \n",
      "                                                                 \n",
      "=================================================================\n",
      "Total params: 4,218,604\n",
      "Trainable params: 168,713\n",
      "Non-trainable params: 4,049,891\n",
      "_________________________________________________________________\n"
     ]
    }
   ],
   "source": [
    "model.load_weights(\"model_weights.h5\")\n",
    "\n",
    "model.compile(optimizer=\"adam\",\n",
    "              loss=\"categorical_crossentropy\",\n",
    "              metrics=[\"accuracy\"])\n",
    "\n",
    "model.summary()\n"
   ]
  },
  {
   "cell_type": "code",
   "execution_count": null,
   "id": "0ea58c33-c5e0-40a1-814b-b78ecd4f39ac",
   "metadata": {},
   "outputs": [],
   "source": []
  }
 ],
 "metadata": {
  "kernelspec": {
   "display_name": ".venv",
   "language": "python",
   "name": ".venv"
  },
  "language_info": {
   "codemirror_mode": {
    "name": "ipython",
    "version": 3
   },
   "file_extension": ".py",
   "mimetype": "text/x-python",
   "name": "python",
   "nbconvert_exporter": "python",
   "pygments_lexer": "ipython3",
   "version": "3.10.6"
  }
 },
 "nbformat": 4,
 "nbformat_minor": 5
}
